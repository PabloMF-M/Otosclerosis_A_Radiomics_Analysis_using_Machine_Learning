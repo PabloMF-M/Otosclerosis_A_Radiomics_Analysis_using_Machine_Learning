{
 "cells": [
  {
   "cell_type": "markdown",
   "metadata": {
    "id": "u4kgJIOMybea"
   },
   "source": [
    "# <center>**RADIOMICS ANALYSIS - Descriptive Statistics - Dates**</center>\n",
    "\n",
    "(*Step 9.2*)"
   ]
  },
  {
   "cell_type": "markdown",
   "metadata": {
    "id": "JPt6n80tynSC"
   },
   "source": [
    "## **Radiomics Workflow:**\n",
    "  \n",
    "  **1. Download** DICOM images and convert to **NRRD.**\n",
    "\n",
    "  **2.** Perform **target segmentations** and save in **NRRD.**\n",
    "  \n",
    "  **3.** Perform a **first Radiomic Features** ***Dummy*** **Extraction,** to:\n",
    "    \n",
    "  - Detect **erros in segmentations**: only one dimension, no label 1, only one segmented voxel...\n",
    "  - Analyze **binwith**.\n",
    "\n",
    "\n",
    "  **4. Analyze** and **correct mask errors.**\n",
    "\n",
    "  **5. Adjust binwith.**\n",
    "   - **Tune featureextractor param file.**\n",
    "\n",
    "\n",
    "  **6.** Perform **final Radiomic Feature Extraction.**\n",
    "\n",
    "  **7. Clean Radiomic Features.**\n",
    "\n",
    "  **8. Merge** with **labels** and **clinical data.**\n",
    "\n",
    "  **9. Descriptive Statistics.**\n",
    "\n",
    "  **10. Inferential Statistics.**\n",
    "\n",
    "  **11. Machine Learning.**"
   ]
  },
  {
   "cell_type": "markdown",
   "metadata": {
    "id": "n41NWEwoyn1F"
   },
   "source": [
    "## **DESCRIPTIVE STATISTICS - DATES**"
   ]
  },
  {
   "cell_type": "markdown",
   "metadata": {
    "id": "U6_dCAS5yu3E"
   },
   "source": [
    "0. **Environment configuration.**\n",
    "1. **Load data.**\n",
    "    * Load data.\n",
    "    * Filter patients with segmentations.\n",
    "    * Select dates.\n",
    "2. **Check and Convert Datatypes.**\n",
    "3. **Descriptive Statistics (Stats and Plots).**"
   ]
  },
  {
   "cell_type": "code",
   "execution_count": 1,
   "metadata": {},
   "outputs": [],
   "source": [
    "import os\n",
    "import numpy as np\n",
    "import pandas as pd\n",
    "from scipy.stats import skew, kurtosis\n",
    "import matplotlib.pyplot as plt\n",
    "import seaborn as sns"
   ]
  },
  {
   "cell_type": "markdown",
   "metadata": {},
   "source": [
    "### **0. Environment configuration.**"
   ]
  },
  {
   "cell_type": "markdown",
   "metadata": {},
   "source": [
    "#### Set the working directory"
   ]
  },
  {
   "cell_type": "code",
   "execution_count": 2,
   "metadata": {},
   "outputs": [
    {
     "name": "stdout",
     "output_type": "stream",
     "text": [
      "Directorio actual: /Users/pablomenendezfernandez-miranda/Proyecto Otosclerosis\n",
      "Directory files: ['Tables', 'Databases', '.DS_Store', 'Episodes', 'Figures', 'Notebooks']\n"
     ]
    }
   ],
   "source": [
    "# Set working directory\n",
    "wd = '/Users/pablomenendezfernandez-miranda/Proyecto Otosclerosis/'\n",
    "os.chdir(wd)\n",
    "\n",
    "print(f'Directorio actual: {os.getcwd()}')\n",
    "\n",
    "# Check directory files\n",
    "print(f'Directory files: {os.listdir(wd)}')"
   ]
  },
  {
   "cell_type": "markdown",
   "metadata": {
    "id": "RJZzkReEyy6w"
   },
   "source": [
    "#### Mount Drive (if executed on Google Colab)"
   ]
  },
  {
   "cell_type": "code",
   "execution_count": 3,
   "metadata": {
    "colab": {
     "base_uri": "https://localhost:8080/"
    },
    "executionInfo": {
     "elapsed": 1643,
     "status": "ok",
     "timestamp": 1728749638255,
     "user": {
      "displayName": "Pablo Menéndez Fernández-Miranda.",
      "userId": "01245928263674294862"
     },
     "user_tz": -120
    },
    "id": "fDWPnq-tyzJc",
    "outputId": "52bf7fac-0cdc-4339-9bd8-48dd0347d138"
   },
   "outputs": [],
   "source": [
    "#from google.colab import drive\n",
    "#drive.mount('/content/drive')"
   ]
  },
  {
   "cell_type": "markdown",
   "metadata": {},
   "source": [
    "#### Print All DataFrame"
   ]
  },
  {
   "cell_type": "code",
   "execution_count": 4,
   "metadata": {},
   "outputs": [],
   "source": [
    "# PRINT FULL DATAFRAME\n",
    "\n",
    "def df_show_full(show):\n",
    "  if show == True:\n",
    "    pd.set_option('display.max_rows', None)\n",
    "    pd.set_option('display.max_columns', None)\n",
    "  if show == False:\n",
    "    pd.reset_option('display.max_rows')\n",
    "    pd.reset_option('display.max_columns')\n",
    "\n",
    "df_show_full(True)"
   ]
  },
  {
   "cell_type": "markdown",
   "metadata": {},
   "source": [
    "#### Save Tables"
   ]
  },
  {
   "cell_type": "code",
   "execution_count": 5,
   "metadata": {},
   "outputs": [],
   "source": [
    "# Save Table\n",
    "def df_save_tab(df_tab, path, name):\n",
    "  df_tab.to_excel(os.path.join(path + name + '.xlsx'))\n",
    "  df_tab.to_csv(os.path.join(path + name + '.csv'))"
   ]
  },
  {
   "cell_type": "markdown",
   "metadata": {
    "id": "uaMdXFYEy9Cb"
   },
   "source": [
    "### **1. Load data**"
   ]
  },
  {
   "cell_type": "markdown",
   "metadata": {},
   "source": [
    "* Load data.\n",
    "* Filter patients with segmentations.\n",
    "* Select dates."
   ]
  },
  {
   "cell_type": "code",
   "execution_count": 6,
   "metadata": {
    "colab": {
     "base_uri": "https://localhost:8080/"
    },
    "executionInfo": {
     "elapsed": 2,
     "status": "ok",
     "timestamp": 1728749639057,
     "user": {
      "displayName": "Pablo Menéndez Fernández-Miranda.",
      "userId": "01245928263674294862"
     },
     "user_tz": -120
    },
    "id": "8wOS5xUzzB_k",
    "outputId": "59d8d37a-3b89-44d2-dcdf-09d864081040"
   },
   "outputs": [
    {
     "name": "stdout",
     "output_type": "stream",
     "text": [
      "['Birth_date', 'Pre_surgical_Tonal_Audiometry_Pathological_Ear_Date', 'Temporal_Bone_CT_scan_Date', 'Surgery_Date', 'One_Week_Post_surgical_Tonal_Audiometry_Date_Pathological_Ear', 'One_Month_Post_surgical_Tonal_Audiometry_Date_Pathological_Ear', 'One_Year_Post_surgical_Tonal_Audiometry_Date_Pathological_Ear']\n",
      "\n",
      "(99, 7)\n"
     ]
    },
    {
     "data": {
      "text/html": [
       "<div>\n",
       "<style scoped>\n",
       "    .dataframe tbody tr th:only-of-type {\n",
       "        vertical-align: middle;\n",
       "    }\n",
       "\n",
       "    .dataframe tbody tr th {\n",
       "        vertical-align: top;\n",
       "    }\n",
       "\n",
       "    .dataframe thead th {\n",
       "        text-align: right;\n",
       "    }\n",
       "</style>\n",
       "<table border=\"1\" class=\"dataframe\">\n",
       "  <thead>\n",
       "    <tr style=\"text-align: right;\">\n",
       "      <th></th>\n",
       "      <th>Birth_date</th>\n",
       "      <th>Pre_surgical_Tonal_Audiometry_Pathological_Ear_Date</th>\n",
       "      <th>Temporal_Bone_CT_scan_Date</th>\n",
       "      <th>Surgery_Date</th>\n",
       "      <th>One_Week_Post_surgical_Tonal_Audiometry_Date_Pathological_Ear</th>\n",
       "      <th>One_Month_Post_surgical_Tonal_Audiometry_Date_Pathological_Ear</th>\n",
       "      <th>One_Year_Post_surgical_Tonal_Audiometry_Date_Pathological_Ear</th>\n",
       "    </tr>\n",
       "  </thead>\n",
       "  <tbody>\n",
       "  </tbody>\n",
       "</table>\n",
       "</div>"
      ],
      "text/plain": [
       "Empty DataFrame\n",
       "Columns: [Birth_date, Pre_surgical_Tonal_Audiometry_Pathological_Ear_Date, Temporal_Bone_CT_scan_Date, Surgery_Date, One_Week_Post_surgical_Tonal_Audiometry_Date_Pathological_Ear, One_Month_Post_surgical_Tonal_Audiometry_Date_Pathological_Ear, One_Year_Post_surgical_Tonal_Audiometry_Date_Pathological_Ear]\n",
       "Index: []"
      ]
     },
     "execution_count": 6,
     "metadata": {},
     "output_type": "execute_result"
    }
   ],
   "source": [
    "# Load pandas dataframe\n",
    "clinical_data_dir= 'Databases/0_Otosclerosis_clinical_data.xlsx'\n",
    "df_clinical= pd.read_excel(clinical_data_dir, engine='openpyxl', na_values='nan')\n",
    "\n",
    "# Filter patients with segmentations (based on data analyzed in previous steps)\n",
    "patients_without_segmentations = ['EPI_0010', 'EPI_0011', 'EPI_0013', 'EPI_0017', 'EPI_0018',\n",
    "                                  'EPI_0033', 'EPI_0036', 'EPI_0039', 'EPI_0043', 'EPI_0044',\n",
    "                                  'EPI_0045', 'EPI_0049', 'EPI_0050', 'EPI_0053', 'EPI_0054',\n",
    "                                  'EPI_0055', 'EPI_0059', 'EPI_0065', 'EPI_0070', 'EPI_0073',\n",
    "                                  'EPI_0079', 'EPI_0084', 'EPI_0098', 'EPI_0099', 'EPI_0108',\n",
    "                                  'EPI_0109', 'EPI_0124', 'EPI_0125']\n",
    "\n",
    "df_filter = df_clinical.loc[~df_clinical['EPI_CODE'].isin(patients_without_segmentations),:]\n",
    "\n",
    "# Select dates\n",
    "dates = [var for var in df_filter.columns if '_date' in var or '_Date' in var]\n",
    "df_dates = df_filter [dates]\n",
    "\n",
    "# Print data\n",
    "print(dates)\n",
    "print('')\n",
    "print(df_dates.shape)\n",
    "df_dates.head(0)"
   ]
  },
  {
   "cell_type": "markdown",
   "metadata": {},
   "source": [
    "### **2. Check and Convert Datatypes**"
   ]
  },
  {
   "cell_type": "code",
   "execution_count": 7,
   "metadata": {},
   "outputs": [
    {
     "data": {
      "text/plain": [
       "Birth_date                                                        datetime64[ns]\n",
       "Pre_surgical_Tonal_Audiometry_Pathological_Ear_Date               datetime64[ns]\n",
       "Temporal_Bone_CT_scan_Date                                        datetime64[ns]\n",
       "Surgery_Date                                                      datetime64[ns]\n",
       "One_Week_Post_surgical_Tonal_Audiometry_Date_Pathological_Ear     datetime64[ns]\n",
       "One_Month_Post_surgical_Tonal_Audiometry_Date_Pathological_Ear    datetime64[ns]\n",
       "One_Year_Post_surgical_Tonal_Audiometry_Date_Pathological_Ear     datetime64[ns]\n",
       "dtype: object"
      ]
     },
     "execution_count": 7,
     "metadata": {},
     "output_type": "execute_result"
    }
   ],
   "source": [
    "# Check datatypes\n",
    "df_dates.dtypes"
   ]
  },
  {
   "cell_type": "code",
   "execution_count": 8,
   "metadata": {},
   "outputs": [
    {
     "data": {
      "text/plain": [
       "Birth_date                                                        datetime64[ns]\n",
       "Pre_surgical_Tonal_Audiometry_Pathological_Ear_Date               datetime64[ns]\n",
       "Temporal_Bone_CT_scan_Date                                        datetime64[ns]\n",
       "Surgery_Date                                                      datetime64[ns]\n",
       "One_Week_Post_surgical_Tonal_Audiometry_Date_Pathological_Ear     datetime64[ns]\n",
       "One_Month_Post_surgical_Tonal_Audiometry_Date_Pathological_Ear    datetime64[ns]\n",
       "One_Year_Post_surgical_Tonal_Audiometry_Date_Pathological_Ear     datetime64[ns]\n",
       "dtype: object"
      ]
     },
     "execution_count": 8,
     "metadata": {},
     "output_type": "execute_result"
    }
   ],
   "source": [
    "# Convert datatypes\n",
    "df_dates_cleaned= df_dates.astype('string').astype('datetime64[ns]')\n",
    "df_dates_cleaned.dtypes"
   ]
  },
  {
   "cell_type": "markdown",
   "metadata": {},
   "source": [
    "### **3. Descriptive Statistics (Stats and Plots)**"
   ]
  },
  {
   "cell_type": "code",
   "execution_count": 9,
   "metadata": {},
   "outputs": [],
   "source": [
    "# Descriptive Stats for Date variables\n",
    "\n",
    "def freq_tab_dates (df, column, decimals=2):\n",
    "    \n",
    "    df2= df.copy()\n",
    "    table = pd.DataFrame(df2[column].dt.year.value_counts())\n",
    "    table.rename(columns={'count':'count (n)'}, inplace=True)\n",
    "\n",
    "    table['percentage (%)']= [float(round((value/sum(table['count (n)'].values.tolist())*100),decimals)) for value in table['count (n)'].values.tolist()]\n",
    "    total= pd.DataFrame(data=[[sum(table['count (n)'].values.tolist()), sum(table['percentage (%)'].values.tolist())]], columns=table.columns.to_list(), index=['TOTAL'])\n",
    "    table= pd.concat([table,total], axis=0)\n",
    "    table= table.rename_axis(column, axis=1)\n",
    "    \n",
    "    return table"
   ]
  },
  {
   "cell_type": "code",
   "execution_count": 10,
   "metadata": {},
   "outputs": [
    {
     "name": "stdout",
     "output_type": "stream",
     "text": [
      "\n",
      "\n"
     ]
    },
    {
     "data": {
      "text/html": [
       "<div>\n",
       "<style scoped>\n",
       "    .dataframe tbody tr th:only-of-type {\n",
       "        vertical-align: middle;\n",
       "    }\n",
       "\n",
       "    .dataframe tbody tr th {\n",
       "        vertical-align: top;\n",
       "    }\n",
       "\n",
       "    .dataframe thead th {\n",
       "        text-align: right;\n",
       "    }\n",
       "</style>\n",
       "<table border=\"1\" class=\"dataframe\">\n",
       "  <thead>\n",
       "    <tr style=\"text-align: right;\">\n",
       "      <th>Birth_date</th>\n",
       "      <th>count (n)</th>\n",
       "      <th>percentage (%)</th>\n",
       "    </tr>\n",
       "  </thead>\n",
       "  <tbody>\n",
       "    <tr>\n",
       "      <th>1973</th>\n",
       "      <td>7</td>\n",
       "      <td>7.07</td>\n",
       "    </tr>\n",
       "    <tr>\n",
       "      <th>1957</th>\n",
       "      <td>7</td>\n",
       "      <td>7.07</td>\n",
       "    </tr>\n",
       "    <tr>\n",
       "      <th>1962</th>\n",
       "      <td>7</td>\n",
       "      <td>7.07</td>\n",
       "    </tr>\n",
       "    <tr>\n",
       "      <th>1964</th>\n",
       "      <td>6</td>\n",
       "      <td>6.06</td>\n",
       "    </tr>\n",
       "    <tr>\n",
       "      <th>1968</th>\n",
       "      <td>6</td>\n",
       "      <td>6.06</td>\n",
       "    </tr>\n",
       "    <tr>\n",
       "      <th>1958</th>\n",
       "      <td>5</td>\n",
       "      <td>5.05</td>\n",
       "    </tr>\n",
       "    <tr>\n",
       "      <th>1982</th>\n",
       "      <td>4</td>\n",
       "      <td>4.04</td>\n",
       "    </tr>\n",
       "    <tr>\n",
       "      <th>1971</th>\n",
       "      <td>4</td>\n",
       "      <td>4.04</td>\n",
       "    </tr>\n",
       "    <tr>\n",
       "      <th>1960</th>\n",
       "      <td>4</td>\n",
       "      <td>4.04</td>\n",
       "    </tr>\n",
       "    <tr>\n",
       "      <th>1975</th>\n",
       "      <td>4</td>\n",
       "      <td>4.04</td>\n",
       "    </tr>\n",
       "    <tr>\n",
       "      <th>1970</th>\n",
       "      <td>4</td>\n",
       "      <td>4.04</td>\n",
       "    </tr>\n",
       "    <tr>\n",
       "      <th>1963</th>\n",
       "      <td>3</td>\n",
       "      <td>3.03</td>\n",
       "    </tr>\n",
       "    <tr>\n",
       "      <th>1961</th>\n",
       "      <td>3</td>\n",
       "      <td>3.03</td>\n",
       "    </tr>\n",
       "    <tr>\n",
       "      <th>2007</th>\n",
       "      <td>2</td>\n",
       "      <td>2.02</td>\n",
       "    </tr>\n",
       "    <tr>\n",
       "      <th>1954</th>\n",
       "      <td>2</td>\n",
       "      <td>2.02</td>\n",
       "    </tr>\n",
       "    <tr>\n",
       "      <th>1980</th>\n",
       "      <td>2</td>\n",
       "      <td>2.02</td>\n",
       "    </tr>\n",
       "    <tr>\n",
       "      <th>2002</th>\n",
       "      <td>2</td>\n",
       "      <td>2.02</td>\n",
       "    </tr>\n",
       "    <tr>\n",
       "      <th>1990</th>\n",
       "      <td>2</td>\n",
       "      <td>2.02</td>\n",
       "    </tr>\n",
       "    <tr>\n",
       "      <th>1947</th>\n",
       "      <td>2</td>\n",
       "      <td>2.02</td>\n",
       "    </tr>\n",
       "    <tr>\n",
       "      <th>1943</th>\n",
       "      <td>2</td>\n",
       "      <td>2.02</td>\n",
       "    </tr>\n",
       "    <tr>\n",
       "      <th>1981</th>\n",
       "      <td>2</td>\n",
       "      <td>2.02</td>\n",
       "    </tr>\n",
       "    <tr>\n",
       "      <th>1965</th>\n",
       "      <td>2</td>\n",
       "      <td>2.02</td>\n",
       "    </tr>\n",
       "    <tr>\n",
       "      <th>1988</th>\n",
       "      <td>2</td>\n",
       "      <td>2.02</td>\n",
       "    </tr>\n",
       "    <tr>\n",
       "      <th>2006</th>\n",
       "      <td>2</td>\n",
       "      <td>2.02</td>\n",
       "    </tr>\n",
       "    <tr>\n",
       "      <th>1972</th>\n",
       "      <td>1</td>\n",
       "      <td>1.01</td>\n",
       "    </tr>\n",
       "    <tr>\n",
       "      <th>1978</th>\n",
       "      <td>1</td>\n",
       "      <td>1.01</td>\n",
       "    </tr>\n",
       "    <tr>\n",
       "      <th>1985</th>\n",
       "      <td>1</td>\n",
       "      <td>1.01</td>\n",
       "    </tr>\n",
       "    <tr>\n",
       "      <th>1949</th>\n",
       "      <td>1</td>\n",
       "      <td>1.01</td>\n",
       "    </tr>\n",
       "    <tr>\n",
       "      <th>1956</th>\n",
       "      <td>1</td>\n",
       "      <td>1.01</td>\n",
       "    </tr>\n",
       "    <tr>\n",
       "      <th>1977</th>\n",
       "      <td>1</td>\n",
       "      <td>1.01</td>\n",
       "    </tr>\n",
       "    <tr>\n",
       "      <th>1991</th>\n",
       "      <td>1</td>\n",
       "      <td>1.01</td>\n",
       "    </tr>\n",
       "    <tr>\n",
       "      <th>1959</th>\n",
       "      <td>1</td>\n",
       "      <td>1.01</td>\n",
       "    </tr>\n",
       "    <tr>\n",
       "      <th>1987</th>\n",
       "      <td>1</td>\n",
       "      <td>1.01</td>\n",
       "    </tr>\n",
       "    <tr>\n",
       "      <th>1993</th>\n",
       "      <td>1</td>\n",
       "      <td>1.01</td>\n",
       "    </tr>\n",
       "    <tr>\n",
       "      <th>1976</th>\n",
       "      <td>1</td>\n",
       "      <td>1.01</td>\n",
       "    </tr>\n",
       "    <tr>\n",
       "      <th>1966</th>\n",
       "      <td>1</td>\n",
       "      <td>1.01</td>\n",
       "    </tr>\n",
       "    <tr>\n",
       "      <th>1940</th>\n",
       "      <td>1</td>\n",
       "      <td>1.01</td>\n",
       "    </tr>\n",
       "    <tr>\n",
       "      <th>TOTAL</th>\n",
       "      <td>99</td>\n",
       "      <td>99.99</td>\n",
       "    </tr>\n",
       "  </tbody>\n",
       "</table>\n",
       "</div>"
      ],
      "text/plain": [
       "Birth_date  count (n)  percentage (%)\n",
       "1973                7            7.07\n",
       "1957                7            7.07\n",
       "1962                7            7.07\n",
       "1964                6            6.06\n",
       "1968                6            6.06\n",
       "1958                5            5.05\n",
       "1982                4            4.04\n",
       "1971                4            4.04\n",
       "1960                4            4.04\n",
       "1975                4            4.04\n",
       "1970                4            4.04\n",
       "1963                3            3.03\n",
       "1961                3            3.03\n",
       "2007                2            2.02\n",
       "1954                2            2.02\n",
       "1980                2            2.02\n",
       "2002                2            2.02\n",
       "1990                2            2.02\n",
       "1947                2            2.02\n",
       "1943                2            2.02\n",
       "1981                2            2.02\n",
       "1965                2            2.02\n",
       "1988                2            2.02\n",
       "2006                2            2.02\n",
       "1972                1            1.01\n",
       "1978                1            1.01\n",
       "1985                1            1.01\n",
       "1949                1            1.01\n",
       "1956                1            1.01\n",
       "1977                1            1.01\n",
       "1991                1            1.01\n",
       "1959                1            1.01\n",
       "1987                1            1.01\n",
       "1993                1            1.01\n",
       "1976                1            1.01\n",
       "1966                1            1.01\n",
       "1940                1            1.01\n",
       "TOTAL              99           99.99"
      ]
     },
     "metadata": {},
     "output_type": "display_data"
    },
    {
     "name": "stdout",
     "output_type": "stream",
     "text": [
      "\n",
      "\n"
     ]
    },
    {
     "data": {
      "text/html": [
       "<div>\n",
       "<style scoped>\n",
       "    .dataframe tbody tr th:only-of-type {\n",
       "        vertical-align: middle;\n",
       "    }\n",
       "\n",
       "    .dataframe tbody tr th {\n",
       "        vertical-align: top;\n",
       "    }\n",
       "\n",
       "    .dataframe thead th {\n",
       "        text-align: right;\n",
       "    }\n",
       "</style>\n",
       "<table border=\"1\" class=\"dataframe\">\n",
       "  <thead>\n",
       "    <tr style=\"text-align: right;\">\n",
       "      <th>Pre_surgical_Tonal_Audiometry_Pathological_Ear_Date</th>\n",
       "      <th>count (n)</th>\n",
       "      <th>percentage (%)</th>\n",
       "    </tr>\n",
       "  </thead>\n",
       "  <tbody>\n",
       "    <tr>\n",
       "      <th>2022.0</th>\n",
       "      <td>22</td>\n",
       "      <td>43.14</td>\n",
       "    </tr>\n",
       "    <tr>\n",
       "      <th>2023.0</th>\n",
       "      <td>19</td>\n",
       "      <td>37.25</td>\n",
       "    </tr>\n",
       "    <tr>\n",
       "      <th>2024.0</th>\n",
       "      <td>5</td>\n",
       "      <td>9.80</td>\n",
       "    </tr>\n",
       "    <tr>\n",
       "      <th>2021.0</th>\n",
       "      <td>3</td>\n",
       "      <td>5.88</td>\n",
       "    </tr>\n",
       "    <tr>\n",
       "      <th>2019.0</th>\n",
       "      <td>1</td>\n",
       "      <td>1.96</td>\n",
       "    </tr>\n",
       "    <tr>\n",
       "      <th>2020.0</th>\n",
       "      <td>1</td>\n",
       "      <td>1.96</td>\n",
       "    </tr>\n",
       "    <tr>\n",
       "      <th>TOTAL</th>\n",
       "      <td>51</td>\n",
       "      <td>99.99</td>\n",
       "    </tr>\n",
       "  </tbody>\n",
       "</table>\n",
       "</div>"
      ],
      "text/plain": [
       "Pre_surgical_Tonal_Audiometry_Pathological_Ear_Date  count (n)  percentage (%)\n",
       "2022.0                                                      22           43.14\n",
       "2023.0                                                      19           37.25\n",
       "2024.0                                                       5            9.80\n",
       "2021.0                                                       3            5.88\n",
       "2019.0                                                       1            1.96\n",
       "2020.0                                                       1            1.96\n",
       "TOTAL                                                       51           99.99"
      ]
     },
     "metadata": {},
     "output_type": "display_data"
    },
    {
     "name": "stdout",
     "output_type": "stream",
     "text": [
      "\n",
      "\n"
     ]
    },
    {
     "data": {
      "text/html": [
       "<div>\n",
       "<style scoped>\n",
       "    .dataframe tbody tr th:only-of-type {\n",
       "        vertical-align: middle;\n",
       "    }\n",
       "\n",
       "    .dataframe tbody tr th {\n",
       "        vertical-align: top;\n",
       "    }\n",
       "\n",
       "    .dataframe thead th {\n",
       "        text-align: right;\n",
       "    }\n",
       "</style>\n",
       "<table border=\"1\" class=\"dataframe\">\n",
       "  <thead>\n",
       "    <tr style=\"text-align: right;\">\n",
       "      <th>Temporal_Bone_CT_scan_Date</th>\n",
       "      <th>count (n)</th>\n",
       "      <th>percentage (%)</th>\n",
       "    </tr>\n",
       "  </thead>\n",
       "  <tbody>\n",
       "    <tr>\n",
       "      <th>2023</th>\n",
       "      <td>39</td>\n",
       "      <td>39.39</td>\n",
       "    </tr>\n",
       "    <tr>\n",
       "      <th>2022</th>\n",
       "      <td>29</td>\n",
       "      <td>29.29</td>\n",
       "    </tr>\n",
       "    <tr>\n",
       "      <th>2021</th>\n",
       "      <td>13</td>\n",
       "      <td>13.13</td>\n",
       "    </tr>\n",
       "    <tr>\n",
       "      <th>2020</th>\n",
       "      <td>6</td>\n",
       "      <td>6.06</td>\n",
       "    </tr>\n",
       "    <tr>\n",
       "      <th>2024</th>\n",
       "      <td>6</td>\n",
       "      <td>6.06</td>\n",
       "    </tr>\n",
       "    <tr>\n",
       "      <th>2019</th>\n",
       "      <td>4</td>\n",
       "      <td>4.04</td>\n",
       "    </tr>\n",
       "    <tr>\n",
       "      <th>2018</th>\n",
       "      <td>2</td>\n",
       "      <td>2.02</td>\n",
       "    </tr>\n",
       "    <tr>\n",
       "      <th>TOTAL</th>\n",
       "      <td>99</td>\n",
       "      <td>99.99</td>\n",
       "    </tr>\n",
       "  </tbody>\n",
       "</table>\n",
       "</div>"
      ],
      "text/plain": [
       "Temporal_Bone_CT_scan_Date  count (n)  percentage (%)\n",
       "2023                               39           39.39\n",
       "2022                               29           29.29\n",
       "2021                               13           13.13\n",
       "2020                                6            6.06\n",
       "2024                                6            6.06\n",
       "2019                                4            4.04\n",
       "2018                                2            2.02\n",
       "TOTAL                              99           99.99"
      ]
     },
     "metadata": {},
     "output_type": "display_data"
    },
    {
     "name": "stdout",
     "output_type": "stream",
     "text": [
      "\n",
      "\n"
     ]
    },
    {
     "data": {
      "text/html": [
       "<div>\n",
       "<style scoped>\n",
       "    .dataframe tbody tr th:only-of-type {\n",
       "        vertical-align: middle;\n",
       "    }\n",
       "\n",
       "    .dataframe tbody tr th {\n",
       "        vertical-align: top;\n",
       "    }\n",
       "\n",
       "    .dataframe thead th {\n",
       "        text-align: right;\n",
       "    }\n",
       "</style>\n",
       "<table border=\"1\" class=\"dataframe\">\n",
       "  <thead>\n",
       "    <tr style=\"text-align: right;\">\n",
       "      <th>Surgery_Date</th>\n",
       "      <th>count (n)</th>\n",
       "      <th>percentage (%)</th>\n",
       "    </tr>\n",
       "  </thead>\n",
       "  <tbody>\n",
       "    <tr>\n",
       "      <th>2023.0</th>\n",
       "      <td>23</td>\n",
       "      <td>45.10</td>\n",
       "    </tr>\n",
       "    <tr>\n",
       "      <th>2022.0</th>\n",
       "      <td>17</td>\n",
       "      <td>33.33</td>\n",
       "    </tr>\n",
       "    <tr>\n",
       "      <th>2024.0</th>\n",
       "      <td>9</td>\n",
       "      <td>17.65</td>\n",
       "    </tr>\n",
       "    <tr>\n",
       "      <th>2019.0</th>\n",
       "      <td>1</td>\n",
       "      <td>1.96</td>\n",
       "    </tr>\n",
       "    <tr>\n",
       "      <th>2021.0</th>\n",
       "      <td>1</td>\n",
       "      <td>1.96</td>\n",
       "    </tr>\n",
       "    <tr>\n",
       "      <th>TOTAL</th>\n",
       "      <td>51</td>\n",
       "      <td>100.00</td>\n",
       "    </tr>\n",
       "  </tbody>\n",
       "</table>\n",
       "</div>"
      ],
      "text/plain": [
       "Surgery_Date  count (n)  percentage (%)\n",
       "2023.0               23           45.10\n",
       "2022.0               17           33.33\n",
       "2024.0                9           17.65\n",
       "2019.0                1            1.96\n",
       "2021.0                1            1.96\n",
       "TOTAL                51          100.00"
      ]
     },
     "metadata": {},
     "output_type": "display_data"
    },
    {
     "name": "stdout",
     "output_type": "stream",
     "text": [
      "\n",
      "\n"
     ]
    },
    {
     "data": {
      "text/html": [
       "<div>\n",
       "<style scoped>\n",
       "    .dataframe tbody tr th:only-of-type {\n",
       "        vertical-align: middle;\n",
       "    }\n",
       "\n",
       "    .dataframe tbody tr th {\n",
       "        vertical-align: top;\n",
       "    }\n",
       "\n",
       "    .dataframe thead th {\n",
       "        text-align: right;\n",
       "    }\n",
       "</style>\n",
       "<table border=\"1\" class=\"dataframe\">\n",
       "  <thead>\n",
       "    <tr style=\"text-align: right;\">\n",
       "      <th>One_Week_Post_surgical_Tonal_Audiometry_Date_Pathological_Ear</th>\n",
       "      <th>count (n)</th>\n",
       "      <th>percentage (%)</th>\n",
       "    </tr>\n",
       "  </thead>\n",
       "  <tbody>\n",
       "    <tr>\n",
       "      <th>2023.0</th>\n",
       "      <td>16</td>\n",
       "      <td>47.06</td>\n",
       "    </tr>\n",
       "    <tr>\n",
       "      <th>2022.0</th>\n",
       "      <td>12</td>\n",
       "      <td>35.29</td>\n",
       "    </tr>\n",
       "    <tr>\n",
       "      <th>2024.0</th>\n",
       "      <td>5</td>\n",
       "      <td>14.71</td>\n",
       "    </tr>\n",
       "    <tr>\n",
       "      <th>2019.0</th>\n",
       "      <td>1</td>\n",
       "      <td>2.94</td>\n",
       "    </tr>\n",
       "    <tr>\n",
       "      <th>TOTAL</th>\n",
       "      <td>34</td>\n",
       "      <td>100.00</td>\n",
       "    </tr>\n",
       "  </tbody>\n",
       "</table>\n",
       "</div>"
      ],
      "text/plain": [
       "One_Week_Post_surgical_Tonal_Audiometry_Date_Pathological_Ear  count (n)  \\\n",
       "2023.0                                                                16   \n",
       "2022.0                                                                12   \n",
       "2024.0                                                                 5   \n",
       "2019.0                                                                 1   \n",
       "TOTAL                                                                 34   \n",
       "\n",
       "One_Week_Post_surgical_Tonal_Audiometry_Date_Pathological_Ear  percentage (%)  \n",
       "2023.0                                                                  47.06  \n",
       "2022.0                                                                  35.29  \n",
       "2024.0                                                                  14.71  \n",
       "2019.0                                                                   2.94  \n",
       "TOTAL                                                                  100.00  "
      ]
     },
     "metadata": {},
     "output_type": "display_data"
    },
    {
     "name": "stdout",
     "output_type": "stream",
     "text": [
      "\n",
      "\n"
     ]
    },
    {
     "data": {
      "text/html": [
       "<div>\n",
       "<style scoped>\n",
       "    .dataframe tbody tr th:only-of-type {\n",
       "        vertical-align: middle;\n",
       "    }\n",
       "\n",
       "    .dataframe tbody tr th {\n",
       "        vertical-align: top;\n",
       "    }\n",
       "\n",
       "    .dataframe thead th {\n",
       "        text-align: right;\n",
       "    }\n",
       "</style>\n",
       "<table border=\"1\" class=\"dataframe\">\n",
       "  <thead>\n",
       "    <tr style=\"text-align: right;\">\n",
       "      <th>One_Month_Post_surgical_Tonal_Audiometry_Date_Pathological_Ear</th>\n",
       "      <th>count (n)</th>\n",
       "      <th>percentage (%)</th>\n",
       "    </tr>\n",
       "  </thead>\n",
       "  <tbody>\n",
       "    <tr>\n",
       "      <th>2023.0</th>\n",
       "      <td>15</td>\n",
       "      <td>36.59</td>\n",
       "    </tr>\n",
       "    <tr>\n",
       "      <th>2022.0</th>\n",
       "      <td>13</td>\n",
       "      <td>31.71</td>\n",
       "    </tr>\n",
       "    <tr>\n",
       "      <th>2024.0</th>\n",
       "      <td>11</td>\n",
       "      <td>26.83</td>\n",
       "    </tr>\n",
       "    <tr>\n",
       "      <th>2019.0</th>\n",
       "      <td>1</td>\n",
       "      <td>2.44</td>\n",
       "    </tr>\n",
       "    <tr>\n",
       "      <th>2021.0</th>\n",
       "      <td>1</td>\n",
       "      <td>2.44</td>\n",
       "    </tr>\n",
       "    <tr>\n",
       "      <th>TOTAL</th>\n",
       "      <td>41</td>\n",
       "      <td>100.01</td>\n",
       "    </tr>\n",
       "  </tbody>\n",
       "</table>\n",
       "</div>"
      ],
      "text/plain": [
       "One_Month_Post_surgical_Tonal_Audiometry_Date_Pathological_Ear  count (n)  \\\n",
       "2023.0                                                                 15   \n",
       "2022.0                                                                 13   \n",
       "2024.0                                                                 11   \n",
       "2019.0                                                                  1   \n",
       "2021.0                                                                  1   \n",
       "TOTAL                                                                  41   \n",
       "\n",
       "One_Month_Post_surgical_Tonal_Audiometry_Date_Pathological_Ear  percentage (%)  \n",
       "2023.0                                                                   36.59  \n",
       "2022.0                                                                   31.71  \n",
       "2024.0                                                                   26.83  \n",
       "2019.0                                                                    2.44  \n",
       "2021.0                                                                    2.44  \n",
       "TOTAL                                                                   100.01  "
      ]
     },
     "metadata": {},
     "output_type": "display_data"
    },
    {
     "name": "stdout",
     "output_type": "stream",
     "text": [
      "\n",
      "\n"
     ]
    },
    {
     "data": {
      "text/html": [
       "<div>\n",
       "<style scoped>\n",
       "    .dataframe tbody tr th:only-of-type {\n",
       "        vertical-align: middle;\n",
       "    }\n",
       "\n",
       "    .dataframe tbody tr th {\n",
       "        vertical-align: top;\n",
       "    }\n",
       "\n",
       "    .dataframe thead th {\n",
       "        text-align: right;\n",
       "    }\n",
       "</style>\n",
       "<table border=\"1\" class=\"dataframe\">\n",
       "  <thead>\n",
       "    <tr style=\"text-align: right;\">\n",
       "      <th>One_Year_Post_surgical_Tonal_Audiometry_Date_Pathological_Ear</th>\n",
       "      <th>count (n)</th>\n",
       "      <th>percentage (%)</th>\n",
       "    </tr>\n",
       "  </thead>\n",
       "  <tbody>\n",
       "    <tr>\n",
       "      <th>2023.0</th>\n",
       "      <td>15</td>\n",
       "      <td>57.69</td>\n",
       "    </tr>\n",
       "    <tr>\n",
       "      <th>2024.0</th>\n",
       "      <td>8</td>\n",
       "      <td>30.77</td>\n",
       "    </tr>\n",
       "    <tr>\n",
       "      <th>2022.0</th>\n",
       "      <td>2</td>\n",
       "      <td>7.69</td>\n",
       "    </tr>\n",
       "    <tr>\n",
       "      <th>2001.0</th>\n",
       "      <td>1</td>\n",
       "      <td>3.85</td>\n",
       "    </tr>\n",
       "    <tr>\n",
       "      <th>TOTAL</th>\n",
       "      <td>26</td>\n",
       "      <td>100.00</td>\n",
       "    </tr>\n",
       "  </tbody>\n",
       "</table>\n",
       "</div>"
      ],
      "text/plain": [
       "One_Year_Post_surgical_Tonal_Audiometry_Date_Pathological_Ear  count (n)  \\\n",
       "2023.0                                                                15   \n",
       "2024.0                                                                 8   \n",
       "2022.0                                                                 2   \n",
       "2001.0                                                                 1   \n",
       "TOTAL                                                                 26   \n",
       "\n",
       "One_Year_Post_surgical_Tonal_Audiometry_Date_Pathological_Ear  percentage (%)  \n",
       "2023.0                                                                  57.69  \n",
       "2024.0                                                                  30.77  \n",
       "2022.0                                                                   7.69  \n",
       "2001.0                                                                   3.85  \n",
       "TOTAL                                                                  100.00  "
      ]
     },
     "metadata": {},
     "output_type": "display_data"
    }
   ],
   "source": [
    "#selected_dates = ['Surgery_Date', 'Temporal_Bone_CT_scan_Date']\n",
    "selected_dates = dates\n",
    "\n",
    "idx= 1\n",
    "for date in selected_dates:\n",
    "    freq_tab = freq_tab_dates (df=df_dates_cleaned, column=date, decimals=2)\n",
    "    df_save_tab(freq_tab, 'Tables/', '1_3_' + str(idx) + '_freq_tab_' + date)\n",
    "    idx+=1\n",
    "    print('\\n')\n",
    "    display (freq_tab)"
   ]
  },
  {
   "cell_type": "code",
   "execution_count": 11,
   "metadata": {},
   "outputs": [
    {
     "data": {
      "image/png": "[encoded data removed]",
      "text/plain": [
       "<Figure size 3000x1500 with 7 Axes>"
      ]
     },
     "metadata": {},
     "output_type": "display_data"
    }
   ],
   "source": [
    "# Plotting Dates\n",
    "\n",
    "df_ = df_dates_cleaned.copy()\n",
    "dates_ = dates\n",
    "\n",
    "num_vars= len(dates_)\n",
    "n_cols= 2\n",
    "n_rows = int(np.ceil(num_vars / n_cols))\n",
    "\n",
    "\n",
    "# Create figure\n",
    "fig_dates, axs= plt.subplots(n_rows, n_cols, figsize=(30,15))\n",
    "fig_dates.suptitle('Dates', fontsize=30, y=1)\n",
    "axes = axs.flatten()\n",
    "\n",
    "# Create subplots\n",
    "for i, date_ in enumerate(dates_):\n",
    "\n",
    "    # Get years\n",
    "    df_[date_+'year'] = df_[date_].dt.year\n",
    "\n",
    "    # Create plot\n",
    "    sns.countplot(data=df_, x=date_+'year', color='#77DD77', ax=axes[i])\n",
    "    \n",
    "    axes[i].set_title(date_, fontsize=12)\n",
    "    axes[i].set_xlabel('')\n",
    "    axes[i].set_ylabel('')\n",
    "    axes[i].tick_params(axis='x', labelsize=10)\n",
    "\n",
    "\n",
    "# Remove empty subplots\n",
    "for j in range(i + 1, len(axes)):\n",
    "    fig_dates.delaxes(axes[j])\n",
    "\n",
    "# Ajust spaces and show\n",
    "plt.tight_layout()\n",
    "plt.show()\n",
    "\n",
    "# Save plot\n",
    "fig_dates_dir= 'Figures/'\n",
    "fig_dates.savefig(fig_dates_dir + '2_3_bar_plots_all_dates.pdf', format='pdf', bbox_inches='tight', dpi=600)"
   ]
  }
 ],
 "metadata": {
  "accelerator": "TPU",
  "colab": {
   "authorship_tag": "ABX9TyMhXJPivdXaPuA0gqhP+y8u",
   "gpuType": "V28",
   "provenance": []
  },
  "kernelspec": {
   "display_name": "Python 3 (ipykernel)",
   "language": "python",
   "name": "python3"
  },
  "language_info": {
   "codemirror_mode": {
    "name": "ipython",
    "version": 3
   },
   "file_extension": ".py",
   "mimetype": "text/x-python",
   "name": "python",
   "nbconvert_exporter": "python",
   "pygments_lexer": "ipython3",
   "version": "3.12.4"
  }
 },
 "nbformat": 4,
 "nbformat_minor": 4
}
