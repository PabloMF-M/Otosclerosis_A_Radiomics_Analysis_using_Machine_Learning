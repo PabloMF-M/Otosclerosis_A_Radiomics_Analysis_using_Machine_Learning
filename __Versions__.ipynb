{
 "cells": [
  {
   "cell_type": "code",
   "execution_count": 1,
   "id": "7714eda2-e500-43c4-b5a7-10aec06536b1",
   "metadata": {},
   "outputs": [],
   "source": [
    "# Import libraries\n",
    "import sys\n",
    "import pandas as pd\n",
    "import numpy as np\n",
    "import matplotlib\n",
    "import seaborn as sns\n",
    "import math\n",
    "import warnings\n",
    "import re\n",
    "import radiomics\n",
    "import scipy\n",
    "import trimesh\n",
    "import tqdm\n",
    "import SimpleITK as sitk\n",
    "import statsmodels\n",
    "import sklearn"
   ]
  },
  {
   "cell_type": "code",
   "execution_count": 2,
   "id": "d1fab3d2-5836-4958-ab1b-f29b49d11621",
   "metadata": {},
   "outputs": [
    {
     "name": "stdout",
     "output_type": "stream",
     "text": [
      "Versions:\n",
      "----------------------------\n",
      "Python version:       3.12.4 | packaged by conda-forge | (main, Jun 17 2024, 10:11:10) [Clang 16.0.6 ]\n",
      "Pandas version:       2.2.2\n",
      "Numpy version:        1.26.4\n",
      "Matplotlib version:   3.9.2\n",
      "Seaborn version:      0.13.2\n",
      "Re version:           2.2.1\n",
      "PyRadiomics version:  3.1.0a2.post14+gaab3c6f\n",
      "Scipy version:        1.14.1\n",
      "Trimesh version:      4.4.9\n",
      "Tqdm version:         4.66.4\n",
      "SimpleITK version:    2.4.0\n",
      "Statsmodel version:   0.14.4\n",
      "Scikit-learn version: 1.5.2\n"
     ]
    }
   ],
   "source": [
    "# Get versions\n",
    "python_version      = sys.version\n",
    "pandas_version      = pd.__version__\n",
    "numpy_version       = np.__version__\n",
    "matplotlib_version  = matplotlib.__version__\n",
    "seaborn_version     = sns.__version__\n",
    "re_version          = re.__version__\n",
    "radiomics_version   = radiomics.__version__\n",
    "scipy_version       = scipy.__version__\n",
    "trimesh_version     = trimesh.__version__\n",
    "tqdm_version        = tqdm.__version__\n",
    "SimpleITK_version   = sitk.__version__\n",
    "statsmodels_version = statsmodels.__version__\n",
    "sklearn_version     = sklearn.__version__\n",
    "\n",
    "# Print versions\n",
    "print(f'Versions:\\n----------------------------')\n",
    "print(f'Python version:       {python_version}')\n",
    "print(f'Pandas version:       {pandas_version}')\n",
    "print(f'Numpy version:        {numpy_version}')\n",
    "print(f'Matplotlib version:   {matplotlib_version}')\n",
    "print(f'Seaborn version:      {seaborn_version}')\n",
    "print(f'Re version:           {re_version}')\n",
    "print(f'PyRadiomics version:  {radiomics_version}')\n",
    "print(f'Scipy version:        {scipy_version}')\n",
    "print(f'Trimesh version:      {trimesh_version}')\n",
    "print(f'Tqdm version:         {tqdm_version}')\n",
    "print(f'SimpleITK version:    {SimpleITK_version}')\n",
    "print(f'Statsmodel version:   {statsmodels_version}')\n",
    "print(f'Scikit-learn version: {sklearn_version}')"
   ]
  }
 ],
 "metadata": {
  "kernelspec": {
   "display_name": "Python 3 (ipykernel)",
   "language": "python",
   "name": "python3"
  },
  "language_info": {
   "codemirror_mode": {
    "name": "ipython",
    "version": 3
   },
   "file_extension": ".py",
   "mimetype": "text/x-python",
   "name": "python",
   "nbconvert_exporter": "python",
   "pygments_lexer": "ipython3",
   "version": "3.12.4"
  }
 },
 "nbformat": 4,
 "nbformat_minor": 5
}
