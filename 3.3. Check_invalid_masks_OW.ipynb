{
 "cells": [
  {
   "cell_type": "markdown",
   "metadata": {
    "id": "gZnQCx1LGZNy"
   },
   "source": [
    "# <center>**RADIOMICS EXTRACTION - Analyze and correct mask errors - OW**</center>\n",
    "\n",
    "*Repetition of Step 4 for Ovak Window Segmentations Analysis of mask errors.*\n",
    "\n",
    "(*Step 4*)"
   ]
  },
  {
   "cell_type": "markdown",
   "metadata": {
    "id": "sGb48aWPGdyh"
   },
   "source": [
    "## **Radiomics Workflow:**\n",
    "  \n",
    "  **1. Download** DICOM images and convert to **NRRD.**\n",
    "\n",
    "  **2.** Perform **target segmentations** and save in **NRRD.**\n",
    "  \n",
    "  **3.** Perform a **first Radiomic Feature** ***Dummy*** **Extraction,** to:\n",
    "    \n",
    "  - Detect **erros in segmentations**: only one dimension, no label 1, only one segmented voxel...\n",
    "  - Analyze **bin width**.\n",
    "\n",
    "\n",
    "  **4. Analyze** and **correct mask errors.**\n",
    "\n",
    "  **5. Adjust bin width.**\n",
    "   - **Tune featureextractor param file.**\n",
    "\n",
    "\n",
    "  **6.** Perform **final Radiomic Feature Extraction.**\n",
    "\n",
    "  **7. Clean Radiomic Features.**\n",
    "\n",
    "  **8. Merge** with **labels** and **clinical data.**\n",
    "\n",
    "  **9. Descriptive Statistics.**\n",
    "\n",
    "  **10. Inferential Statistics.**\n",
    "\n",
    "  **11. Machine Learning.**"
   ]
  },
  {
   "cell_type": "markdown",
   "metadata": {
    "id": "UQUloxwnGIDr"
   },
   "source": [
    "## **MASK ANALYSIS - OW**\n",
    "\n",
    "This notebook **checks and analyze** those **masks** which return **errors** during the first radiomic features extraction. The errors return by <code>pyradiomics</code> are the following.\n",
    "\n",
    "**No label 1:**\n",
    "\n",
    "* <code>Exception thrown in SimpleITK LabelShapeStatisticsImageFilter_GetBoundingBox: /tmp/SimpleITK-build/ITK-prefix/include/ITK-5.4/itkLabelMap.hxx:121:\n",
    "ITK ERROR: LabelMap(0x561dda58da00): No label object with label 1.</code>\n",
    "\n",
    "**Only one voxel:**\n",
    "\n",
    "* <code>mask only contains 1 segmented voxel! Cannot extract features for a single voxel.</code>\n",
    "\n",
    "\n",
    "To analyze this issues, the steps followed are:\n",
    "\n",
    "0.   Environment **configuration**.\n",
    "1.   Analyze **mask errors**.\n",
    "      * No label 1.\n",
    "      * Only one voxel.\n",
    "2.   Check an error"
   ]
  },
  {
   "cell_type": "code",
   "execution_count": 1,
   "metadata": {
    "colab": {
     "base_uri": "https://localhost:8080/"
    },
    "executionInfo": {
     "elapsed": 26632,
     "status": "ok",
     "timestamp": 1728392302811,
     "user": {
      "displayName": "Pablo Menéndez Fernández-Miranda.",
      "userId": "01245928263674294862"
     },
     "user_tz": -120
    },
    "id": "228YM1WCHvLp",
    "outputId": "ad2cdf5e-1cd7-4f7c-e715-4c351497de63"
   },
   "outputs": [],
   "source": [
    "# Install libraries\n",
    "#pip install -q SimpleITK pyradiomics"
   ]
  },
  {
   "cell_type": "code",
   "execution_count": 2,
   "metadata": {
    "id": "epe8bImIH7I4"
   },
   "outputs": [],
   "source": [
    "import os\n",
    "import numpy as np\n",
    "import SimpleITK as sitk\n",
    "from radiomics import featureextractor\n",
    "import scipy # for filters"
   ]
  },
  {
   "cell_type": "markdown",
   "metadata": {},
   "source": [
    "### **0. Environment configuration**"
   ]
  },
  {
   "cell_type": "markdown",
   "metadata": {},
   "source": [
    "#### Set the working directory"
   ]
  },
  {
   "cell_type": "code",
   "execution_count": 3,
   "metadata": {},
   "outputs": [
    {
     "name": "stdout",
     "output_type": "stream",
     "text": [
      "Directorio actual: /Users/pablomenendezfernandez-miranda/Proyecto Otosclerosis\n",
      "Directory files: ['Tables', 'Databases', '.DS_Store', 'Episodes', 'Figures', 'Notebooks']\n"
     ]
    }
   ],
   "source": [
    "# Set working directory\n",
    "wd = '/Users/pablomenendezfernandez-miranda/Proyecto Otosclerosis/'\n",
    "os.chdir(wd)\n",
    "\n",
    "print(f'Directorio actual: {os.getcwd()}')\n",
    "\n",
    "# Check directory files\n",
    "print(f'Directory files: {os.listdir(wd)}')"
   ]
  },
  {
   "cell_type": "markdown",
   "metadata": {},
   "source": [
    "#### Mount Drive (if executed on Google Colab)"
   ]
  },
  {
   "cell_type": "code",
   "execution_count": 4,
   "metadata": {},
   "outputs": [],
   "source": [
    "#from google.colab import drive\n",
    "#drive.mount('/content/drive')"
   ]
  },
  {
   "cell_type": "markdown",
   "metadata": {},
   "source": [
    "### **1. Analyze mask errors**"
   ]
  },
  {
   "cell_type": "code",
   "execution_count": 5,
   "metadata": {},
   "outputs": [],
   "source": [
    "dir= 'Episodes/'"
   ]
  },
  {
   "cell_type": "markdown",
   "metadata": {},
   "source": [
    "#### **1.1. No label 1**"
   ]
  },
  {
   "cell_type": "code",
   "execution_count": 6,
   "metadata": {
    "colab": {
     "base_uri": "https://localhost:8080/"
    },
    "executionInfo": {
     "elapsed": 7984,
     "status": "ok",
     "timestamp": 1728392225030,
     "user": {
      "displayName": "Pablo Menéndez Fernández-Miranda.",
      "userId": "01245928263674294862"
     },
     "user_tz": -120
    },
    "id": "vDpOTfE4IiGA",
    "outputId": "2aa32758-43c6-427e-f65f-9cc91fc6656b"
   },
   "outputs": [
    {
     "name": "stdout",
     "output_type": "stream",
     "text": [
      "Valores únicos de la segmentación EPI_0034_OW.nrrd: [0 1]\n"
     ]
    }
   ],
   "source": [
    "# No label 1\n",
    "segmentations= ['EPI_0034_OW.nrrd']\n",
    "\n",
    "for segmentation in segmentations:\n",
    "  segmentation_dir =os.path.join(dir, segmentation)\n",
    "  segmentation_itk = sitk.ReadImage(segmentation_dir)\n",
    "  segmentation_array = sitk.GetArrayFromImage(segmentation_itk)\n",
    "  print(f'Valores únicos de la segmentación {segmentation}: {np.unique(segmentation_array)}')"
   ]
  },
  {
   "cell_type": "markdown",
   "metadata": {},
   "source": [
    "#### **1.2. Only one voxel**"
   ]
  },
  {
   "cell_type": "code",
   "execution_count": 7,
   "metadata": {
    "colab": {
     "base_uri": "https://localhost:8080/"
    },
    "executionInfo": {
     "elapsed": 2184,
     "status": "ok",
     "timestamp": 1728392227211,
     "user": {
      "displayName": "Pablo Menéndez Fernández-Miranda.",
      "userId": "01245928263674294862"
     },
     "user_tz": -120
    },
    "id": "SB6QoIksI7Yo",
    "outputId": "0d0e1cb5-ee4a-43da-9416-b3822082cba5"
   },
   "outputs": [
    {
     "name": "stdout",
     "output_type": "stream",
     "text": [
      "Valores etiquetados como 1 de la segmentación EPI_0001_OW.nrrd: 159  (etiquetados como 0 74973025)\n",
      "Valores etiquetados como 1 de la segmentación EPI_0004_OW.nrrd: 166  (etiquetados como 0 50069338)\n",
      "Valores etiquetados como 1 de la segmentación EPI_0008_OW.nrrd: 526  (etiquetados como 0 51379698)\n",
      "Valores etiquetados como 1 de la segmentación EPI_0028_OW.nrrd: 191  (etiquetados como 0 65011521)\n",
      "Valores etiquetados como 1 de la segmentación EPI_0052_OW.nrrd: 206  (etiquetados como 0 72875826)\n",
      "Valores etiquetados como 1 de la segmentación EPI_0063_OW.nrrd: 223  (etiquetados como 0 73137953)\n"
     ]
    }
   ],
   "source": [
    "# Solo un vóxel segmentado\n",
    "segmentations= ['EPI_0001_OW.nrrd', 'EPI_0004_OW.nrrd', 'EPI_0008_OW.nrrd', 'EPI_0028_OW.nrrd', 'EPI_0052_OW.nrrd', 'EPI_0063_OW.nrrd']\n",
    "\n",
    "for segmentation in segmentations:\n",
    "  segmentation_dir =os.path.join(dir, segmentation)\n",
    "  segmentation_itk = sitk.ReadImage(segmentation_dir)\n",
    "  segmentation_array = sitk.GetArrayFromImage(segmentation_itk)\n",
    "  print(f'Valores etiquetados como 1 de la segmentación {segmentation}: {np.sum(segmentation_array == 1)}  (etiquetados como 0 {np.sum(segmentation_array == 0)})')"
   ]
  },
  {
   "cell_type": "markdown",
   "metadata": {
    "id": "zXhT2tjJJ1Ha"
   },
   "source": [
    "### **2. Check an error**"
   ]
  },
  {
   "cell_type": "code",
   "execution_count": 8,
   "metadata": {
    "colab": {
     "base_uri": "https://localhost:8080/",
     "height": 438
    },
    "executionInfo": {
     "elapsed": 23035,
     "status": "error",
     "timestamp": 1728392378517,
     "user": {
      "displayName": "Pablo Menéndez Fernández-Miranda.",
      "userId": "01245928263674294862"
     },
     "user_tz": -120
    },
    "id": "X8qDgv6tJ1YH",
    "outputId": "53144ea9-331a-4043-84cb-085594c5f3d8"
   },
   "outputs": [
    {
     "ename": "ValueError",
     "evalue": "mask only contains 1 segmented voxel! Cannot extract features for a single voxel.",
     "output_type": "error",
     "traceback": [
      "\u001b[0;31m---------------------------------------------------------------------------\u001b[0m",
      "\u001b[0;31mValueError\u001b[0m                                Traceback (most recent call last)",
      "Cell \u001b[0;32mIn[8], line 10\u001b[0m\n\u001b[1;32m      7\u001b[0m image_path\u001b[38;5;241m=\u001b[39m os\u001b[38;5;241m.\u001b[39mpath\u001b[38;5;241m.\u001b[39mjoin(\u001b[38;5;28mdir\u001b[39m, image)\n\u001b[1;32m      8\u001b[0m segmentation_path\u001b[38;5;241m=\u001b[39m os\u001b[38;5;241m.\u001b[39mpath\u001b[38;5;241m.\u001b[39mjoin(\u001b[38;5;28mdir\u001b[39m, segmentation)\n\u001b[0;32m---> 10\u001b[0m \u001b[43mextractor\u001b[49m\u001b[38;5;241;43m.\u001b[39;49m\u001b[43mexecute\u001b[49m\u001b[43m(\u001b[49m\u001b[43mimage_path\u001b[49m\u001b[43m,\u001b[49m\u001b[43m \u001b[49m\u001b[43msegmentation_path\u001b[49m\u001b[43m,\u001b[49m\u001b[43m \u001b[49m\u001b[43mvoxelBased\u001b[49m\u001b[38;5;241;43m=\u001b[39;49m\u001b[38;5;28;43;01mFalse\u001b[39;49;00m\u001b[43m)\u001b[49m\n",
      "File \u001b[0;32m~/miniconda3/envs/jupyterR/lib/python3.12/site-packages/radiomics/featureextractor.py:276\u001b[0m, in \u001b[0;36mRadiomicsFeatureExtractor.execute\u001b[0;34m(self, imageFilepath, maskFilepath, label, label_channel, voxelBased)\u001b[0m\n\u001b[1;32m    272\u001b[0m image, mask \u001b[38;5;241m=\u001b[39m \u001b[38;5;28mself\u001b[39m\u001b[38;5;241m.\u001b[39mloadImage(imageFilepath, maskFilepath, generalInfo, \u001b[38;5;241m*\u001b[39m\u001b[38;5;241m*\u001b[39m_settings)\n\u001b[1;32m    274\u001b[0m \u001b[38;5;66;03m# 2. Check whether loaded mask contains a valid ROI for feature extraction and get bounding box\u001b[39;00m\n\u001b[1;32m    275\u001b[0m \u001b[38;5;66;03m# Raises a ValueError if the ROI is invalid\u001b[39;00m\n\u001b[0;32m--> 276\u001b[0m boundingBox, correctedMask \u001b[38;5;241m=\u001b[39m \u001b[43mimageoperations\u001b[49m\u001b[38;5;241;43m.\u001b[39;49m\u001b[43mcheckMask\u001b[49m\u001b[43m(\u001b[49m\u001b[43mimage\u001b[49m\u001b[43m,\u001b[49m\u001b[43m \u001b[49m\u001b[43mmask\u001b[49m\u001b[43m,\u001b[49m\u001b[43m \u001b[49m\u001b[38;5;241;43m*\u001b[39;49m\u001b[38;5;241;43m*\u001b[39;49m\u001b[43m_settings\u001b[49m\u001b[43m)\u001b[49m\n\u001b[1;32m    278\u001b[0m \u001b[38;5;66;03m# Update the mask if it had to be resampled\u001b[39;00m\n\u001b[1;32m    279\u001b[0m \u001b[38;5;28;01mif\u001b[39;00m correctedMask \u001b[38;5;129;01mis\u001b[39;00m \u001b[38;5;129;01mnot\u001b[39;00m \u001b[38;5;28;01mNone\u001b[39;00m:\n",
      "File \u001b[0;32m~/miniconda3/envs/jupyterR/lib/python3.12/site-packages/radiomics/imageoperations.py:273\u001b[0m, in \u001b[0;36mcheckMask\u001b[0;34m(imageNode, maskNode, **kwargs)\u001b[0m\n\u001b[1;32m    271\u001b[0m ndims \u001b[38;5;241m=\u001b[39m numpy\u001b[38;5;241m.\u001b[39msum((boundingBox[\u001b[38;5;241m1\u001b[39m::\u001b[38;5;241m2\u001b[39m] \u001b[38;5;241m-\u001b[39m boundingBox[\u001b[38;5;241m0\u001b[39m::\u001b[38;5;241m2\u001b[39m] \u001b[38;5;241m+\u001b[39m \u001b[38;5;241m1\u001b[39m) \u001b[38;5;241m>\u001b[39m \u001b[38;5;241m1\u001b[39m)  \u001b[38;5;66;03m# UBound - LBound + 1 = Size\u001b[39;00m\n\u001b[1;32m    272\u001b[0m \u001b[38;5;28;01mif\u001b[39;00m ndims \u001b[38;5;241m==\u001b[39m \u001b[38;5;241m0\u001b[39m:\n\u001b[0;32m--> 273\u001b[0m   \u001b[38;5;28;01mraise\u001b[39;00m \u001b[38;5;167;01mValueError\u001b[39;00m(\u001b[38;5;124m'\u001b[39m\u001b[38;5;124mmask only contains 1 segmented voxel! Cannot extract features for a single voxel.\u001b[39m\u001b[38;5;124m'\u001b[39m)\n\u001b[1;32m    274\u001b[0m \u001b[38;5;28;01melif\u001b[39;00m ndims \u001b[38;5;241m<\u001b[39m minDims:\n\u001b[1;32m    275\u001b[0m   \u001b[38;5;28;01mraise\u001b[39;00m \u001b[38;5;167;01mValueError\u001b[39;00m(\u001b[38;5;124m'\u001b[39m\u001b[38;5;124mmask has too few dimensions (number of dimensions \u001b[39m\u001b[38;5;132;01m%d\u001b[39;00m\u001b[38;5;124m, minimum required \u001b[39m\u001b[38;5;132;01m%d\u001b[39;00m\u001b[38;5;124m)\u001b[39m\u001b[38;5;124m'\u001b[39m \u001b[38;5;241m%\u001b[39m (ndims, minDims))\n",
      "\u001b[0;31mValueError\u001b[0m: mask only contains 1 segmented voxel! Cannot extract features for a single voxel."
     ]
    }
   ],
   "source": [
    "image= 'EPI_0001.nrrd'\n",
    "segmentation= 'EPI_0001_OW.nrrd'\n",
    "\n",
    "params= 'Notebooks/param_files/param_file_STAPES_tuned.yaml'\n",
    "extractor= featureextractor.RadiomicsFeatureExtractor(params, verbose=True)\n",
    "\n",
    "image_path= os.path.join(dir, image)\n",
    "segmentation_path= os.path.join(dir, segmentation)\n",
    "\n",
    "extractor.execute(image_path, segmentation_path, voxelBased=False)"
   ]
  }
 ],
 "metadata": {
  "colab": {
   "authorship_tag": "ABX9TyNABNuInNoJa6qk8ztfS7rY",
   "provenance": []
  },
  "kernelspec": {
   "display_name": "Python 3 (ipykernel)",
   "language": "python",
   "name": "python3"
  },
  "language_info": {
   "codemirror_mode": {
    "name": "ipython",
    "version": 3
   },
   "file_extension": ".py",
   "mimetype": "text/x-python",
   "name": "python",
   "nbconvert_exporter": "python",
   "pygments_lexer": "ipython3",
   "version": "3.12.4"
  }
 },
 "nbformat": 4,
 "nbformat_minor": 4
}
